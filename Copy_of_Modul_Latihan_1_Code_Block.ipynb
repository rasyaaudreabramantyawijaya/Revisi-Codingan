{
  "nbformat": 4,
  "nbformat_minor": 0,
  "metadata": {
    "colab": {
      "provenance": []
    },
    "kernelspec": {
      "name": "python3",
      "display_name": "Python 3"
    },
    "language_info": {
      "name": "python"
    }
  },
  "cells": [
    {
      "cell_type": "markdown",
      "source": [
        "# Modul Introduction to Python\n",
        "Disusun Oleh : Abdan Hafidz"
      ],
      "metadata": {
        "id": "0fsqxm8Vb_7C"
      }
    },
    {
      "cell_type": "markdown",
      "source": [
        "# print(), Langkah Kecil Penuh Makna\n",
        "**Sapa Dunia ini!**\n",
        "Sapalah dunia ini dengan hangat dan penuh bahagia, karena sudah menjadi tempat kamu bernaung dari segala masalah dan momen (sedih,bahagia, ataupun marah)"
      ],
      "metadata": {
        "id": "8zncJFWuCmCg"
      }
    },
    {
      "cell_type": "code",
      "source": [
        "print(\"Hello World\") #Cetaklah \"Hello World\""
      ],
      "metadata": {
        "id": "perJb7OqC1VW"
      },
      "execution_count": null,
      "outputs": []
    },
    {
      "cell_type": "markdown",
      "source": [
        "# Variable dan Tipe Data\n",
        "Sekarang anda sudah bergabung ke dalam kelas Dasar Pemrograman RKA. Waktunya kita berkenalan"
      ],
      "metadata": {
        "id": "-_z_gqVoC9qe"
      }
    },
    {
      "cell_type": "code",
      "source": [
        "namaDepan = \"Rasya\" #Isi nama depan kamu\n",
        "namaBelakang = \"Audrea Bramantya Wijaya\" #Isi nama belakang\n",
        "\n",
        "namaLengkap = (namaDepan)+ \" \" +(namaBelakang)  #kira - kira bagaimana caranya membuat nilai namaLengkap dari kedua variable di atas?\n",
        "jumlahPacar = 0 #Diisi boong juga gapapa yahh hehe\n",
        "PunyaPacarAtoga = bool(jumlahPacar > 0) # Gausah di apa - apain ya cukup dipahami saja\n",
        "NomorTelpon = \"081389064913\" #tenang aja aman kok"
      ],
      "metadata": {
        "id": "-OUHIxnEDEvT"
      },
      "execution_count": null,
      "outputs": []
    },
    {
      "cell_type": "markdown",
      "source": [
        "Oke - oke, makasih udah isi, sekarang yu coba kita bermain dengan variable sedikit lagi. Kali ini kamu akan mencoba untuk menghitung jarak kamu ke kampus.\n",
        "\n",
        "Kamu diberikan variable\n",
        "\n",
        "```\n",
        "jarak_dalam_meter\n",
        "```\n",
        "\n",
        "Variable ini akan kamu isi jarak dari rumah ke kampus kamu dalam format meter (kalau bisa sedetil mungkin ya bukan perkiraan dan angkanya tidak terlalu bulat)\n",
        "\n",
        "Lalu coba kamu hitung dan rubah jarak tersebut ke format kilometer dan isikan ke dalam variable\n",
        "\n",
        "```\n",
        "jarak_dalam_kilometer\n",
        "```\n",
        "\n",
        "\n",
        "\n",
        "*   [HINT BRO] : Dinget - inget kalau misal jaraknya desimal kira - kira pakai tipe data apa? Clue : Minuman Es Krim\n",
        "\n"
      ],
      "metadata": {
        "id": "FWlaXENPDlm_"
      }
    },
    {
      "cell_type": "code",
      "source": [
        "jarak_dalam_meter = 1900 #jarak dari rumah ke kampus kamu dalam satuan meter\n",
        "jarak dalam kilometer = float(1.9) #jarak dari rumah ke kampus kamu dalam satuan kilometer"
      ],
      "metadata": {
        "id": "hYuixFG8D-80"
      },
      "execution_count": null,
      "outputs": []
    },
    {
      "cell_type": "markdown",
      "source": [
        "Nice, sekarang lanjut. Ohiya aku bikin perkiraan nih buat kategori rumah kamu ke kampus itu termasuk apa. Berikut ini kategorinya :\n",
        "\n",
        "*   Deket : jarak < 100 m\n",
        "*   Lumayan : 100 m <= jarak <= 300m\n",
        "*   Jauh : > 300 m\n",
        "\n",
        "Sekarang coba kamu bantu aku buat bikin program *classifier* kira - kira rumah kamu ke kampus tergolong apa\n",
        "\n"
      ],
      "metadata": {
        "id": "qbsxqNf8E4ou"
      }
    },
    {
      "cell_type": "code",
      "source": [
        "# Lengkapin code ini dan jangan rubah apapun kalau gak disuruh rubah yah\n",
        "\n",
        "deket = bool(False) # yuk diisi gimana tuh kategoriinnya\n",
        "lumayan = bool(False) #yuk diisi gimana tug kategoriinya\n",
        "jauh = bool(True) #yuk diisi tuh gimana tuh kategoriinya\n",
        "\n",
        "kategori = \"\" # diinget ya ada variable baru nih , siapatau kepake\n",
        "if(deket):\n",
        "  kategori = \"DEKAT\"\n",
        "  print(\"Asik deket juga euy\")\n",
        "elif(lumayan):\n",
        "  kategori = \"LUMAYAN\"\n",
        "  print(\"lumayan yah...\")\n",
        "else:\n",
        "  kategori = \"JAUH\"\n",
        "  print(\"jauhnye... semangat kuliahnya!\")"
      ],
      "metadata": {
        "id": "yKQt1jKVFoOn"
      },
      "execution_count": null,
      "outputs": []
    },
    {
      "cell_type": "markdown",
      "source": [
        "# Keluaran\n",
        "Yeayy, akhirnya kamu sudah bisa lah sedikit tentang *variable assignment* sekarang coba biar lebih keren sajiin data kamu dalam bentuk kartu nama kaya gini:\n",
        "\n",
        "\n",
        "\n",
        "bantu aku bikin program yang bakalan nampilin kartu nama buat kamu yah!"
      ],
      "metadata": {
        "id": "oKYtsExyGmuq"
      }
    },
    {
      "cell_type": "code",
      "source": [
        "def printKartuNama():\n",
        "  print(\"======= KARTU TANDA PROGRAMMER =======\")\n",
        "  ... # ketik apa hayo biar bisa nampilin nama kamu\n",
        "  ... # ketik apa hayo biar bisa nampilin jumlah pacar\n",
        "  ... # ketik apa hayo biar bisa nampilin punya pacar ato engga\n",
        "  ... # ketik apa hayo biar bisa nampilin nomor telepon kamu\n",
        "  print(f\"================={kategori}====================\") # ketik apa hayo biar bisa kasih tau jarak dari rumah ke kampus jauh atau engga\n",
        "  print(\"=====================================\")\n",
        "\n",
        "printKartuNama()"
      ],
      "metadata": {
        "id": "NiANOJpjGxmC",
        "colab": {
          "base_uri": "https://localhost:8080/",
          "height": 367
        },
        "outputId": "ef1fa1bb-95eb-41f8-b5e5-cc0698e21da2"
      },
      "execution_count": null,
      "outputs": [
        {
          "output_type": "stream",
          "name": "stdout",
          "text": [
            "======= KARTU TANDA PROGRAMMER =======\n"
          ]
        },
        {
          "output_type": "error",
          "ename": "NameError",
          "evalue": "name 'namaLengkap' is not defined",
          "traceback": [
            "\u001b[0;31m---------------------------------------------------------------------------\u001b[0m",
            "\u001b[0;31mNameError\u001b[0m                                 Traceback (most recent call last)",
            "\u001b[0;32m<ipython-input-8-494298e38ee3>\u001b[0m in \u001b[0;36m<cell line: 10>\u001b[0;34m()\u001b[0m\n\u001b[1;32m      8\u001b[0m   \u001b[0mprint\u001b[0m\u001b[0;34m(\u001b[0m\u001b[0;34m\"======================================\"\u001b[0m\u001b[0;34m)\u001b[0m\u001b[0;34m\u001b[0m\u001b[0;34m\u001b[0m\u001b[0m\n\u001b[1;32m      9\u001b[0m \u001b[0;34m\u001b[0m\u001b[0m\n\u001b[0;32m---> 10\u001b[0;31m \u001b[0mprintKartuNama\u001b[0m\u001b[0;34m(\u001b[0m\u001b[0;34m)\u001b[0m\u001b[0;34m\u001b[0m\u001b[0;34m\u001b[0m\u001b[0m\n\u001b[0m",
            "\u001b[0;32m<ipython-input-8-494298e38ee3>\u001b[0m in \u001b[0;36mprintKartuNama\u001b[0;34m()\u001b[0m\n\u001b[1;32m      1\u001b[0m \u001b[0;32mdef\u001b[0m \u001b[0mprintKartuNama\u001b[0m\u001b[0;34m(\u001b[0m\u001b[0;34m)\u001b[0m\u001b[0;34m:\u001b[0m\u001b[0;34m\u001b[0m\u001b[0;34m\u001b[0m\u001b[0m\n\u001b[1;32m      2\u001b[0m   \u001b[0mprint\u001b[0m\u001b[0;34m(\u001b[0m\u001b[0;34m\"======= KARTU TANDA PROGRAMMER =======\"\u001b[0m\u001b[0;34m)\u001b[0m\u001b[0;34m\u001b[0m\u001b[0;34m\u001b[0m\u001b[0m\n\u001b[0;32m----> 3\u001b[0;31m   \u001b[0mprint\u001b[0m\u001b[0;34m(\u001b[0m\u001b[0;34mf\"============= {namaLengkap} =============\"\u001b[0m\u001b[0;34m)\u001b[0m \u001b[0;31m# ketik apa hayo biar bisa nampilin nama kamu\u001b[0m\u001b[0;34m\u001b[0m\u001b[0;34m\u001b[0m\u001b[0m\n\u001b[0m\u001b[1;32m      4\u001b[0m   \u001b[0mprint\u001b[0m\u001b[0;34m(\u001b[0m\u001b[0;34mf\"================= {jumlahPacar} ================\"\u001b[0m\u001b[0;34m)\u001b[0m \u001b[0;31m# ketik apa hayo biar bisa nampilin jumlah pacar\u001b[0m\u001b[0;34m\u001b[0m\u001b[0;34m\u001b[0m\u001b[0m\n\u001b[1;32m      5\u001b[0m   \u001b[0mprint\u001b[0m\u001b[0;34m(\u001b[0m\u001b[0;34mf\"================ {PunyaPacarApaGa} ================\"\u001b[0m\u001b[0;34m)\u001b[0m \u001b[0;31m# ketik apa hayo biar bisa nampilin punya pacar ato engga\u001b[0m\u001b[0;34m\u001b[0m\u001b[0;34m\u001b[0m\u001b[0m\n",
            "\u001b[0;31mNameError\u001b[0m: name 'namaLengkap' is not defined"
          ]
        }
      ]
    },
    {
      "cell_type": "markdown",
      "source": [
        "Ohiya nama kamu tadi siapa?\n",
        "Coba bikin programnya bisa bikin begini :     \n",
        "\n",
        "\n",
        "```\n",
        "Halo Ka Aku {nama kamu}, Usia ku {usia kamu}\n",
        "```\n",
        "\n"
      ],
      "metadata": {
        "id": "oW-tJHmUINJy"
      }
    },
    {
      "cell_type": "code",
      "source": [
        "print(f\"Halo Ka Abdan, Aku {namaDepan}, Usia ku 18\") # Coba cetak dengan format yang sama seperti di atas"
      ],
      "metadata": {
        "id": "Y5BOdPwWIeX_",
        "colab": {
          "base_uri": "https://localhost:8080/",
          "height": 141
        },
        "outputId": "49f6621c-80e7-40b1-e92a-096b4a3ebb3a"
      },
      "execution_count": 9,
      "outputs": [
        {
          "output_type": "error",
          "ename": "NameError",
          "evalue": "name 'namaDepan' is not defined",
          "traceback": [
            "\u001b[0;31m---------------------------------------------------------------------------\u001b[0m",
            "\u001b[0;31mNameError\u001b[0m                                 Traceback (most recent call last)",
            "\u001b[0;32m<ipython-input-9-eb1d6cbece79>\u001b[0m in \u001b[0;36m<cell line: 1>\u001b[0;34m()\u001b[0m\n\u001b[0;32m----> 1\u001b[0;31m \u001b[0mprint\u001b[0m\u001b[0;34m(\u001b[0m\u001b[0;34mf\"Halo Ka Abdan, Aku {namaDepan}, Usia ku 18\"\u001b[0m\u001b[0;34m)\u001b[0m \u001b[0;31m# Coba cetak dengan format yang sama seperti di atas\u001b[0m\u001b[0;34m\u001b[0m\u001b[0;34m\u001b[0m\u001b[0m\n\u001b[0m",
            "\u001b[0;31mNameError\u001b[0m: name 'namaDepan' is not defined"
          ]
        }
      ]
    },
    {
      "cell_type": "markdown",
      "source": [
        "# Increament - Decreament\n",
        "Sekarang kita akan mulai perjalanan kita dengan sedikit persoalan Matematika. Bagi kamu yang fobia sama Matematika tenang aja karena Matematika kita tidak terlalu berpaku pada rumus tapi *sangat mengandalkan logika dan Intuisi kamu* jadi dengan waktu yang ada silahkan persiapkan kepala kalian agar bisa mengalirkan ide - ide kreatif yang mengesankan.\n",
        "\n"
      ],
      "metadata": {
        "id": "hpQB6x3bJZmr"
      }
    },
    {
      "cell_type": "markdown",
      "source": [
        "## [Problem Solving 1] : Menghitung Konsumsi OKKBK\n",
        "\n",
        "Perhatikan dengan seksama studycase di bawah ya!\n",
        "> Pada Pelaksanaan OKKBK kali ini diberikan stok konsumsi sebanyak 3000 pcs. Semua stok itu dibagikan kepada 1000 orang (masing - masing 1pc) dan ternyata 500 orang mengembalikan jatah konsumsinya karena sedang berpuasa. Pak Dengklek penasaran kira - kira jika sisa stok konsumsi yang ada ingin dibagi rata ke 200 orang adilnya setiap orang mendapatkan berapa pcs? dan berapa jumlah pcs yang tersisa dari stok konsumsi yang tidak bisa dibagikan?\n",
        "\n"
      ],
      "metadata": {
        "id": "y1xzAwK4Jvq4"
      }
    },
    {
      "cell_type": "markdown",
      "source": [
        "Mula - mula stok konsumsi sebanyak 3000 pcs"
      ],
      "metadata": {
        "id": "2KN9j8L4KqOk"
      }
    },
    {
      "cell_type": "code",
      "source": [
        "stok_konsumsi = 3000"
      ],
      "metadata": {
        "id": "1xqSTgIVKuNS"
      },
      "execution_count": null,
      "outputs": []
    },
    {
      "cell_type": "markdown",
      "source": [
        "Kemudian dibagikan kepada 1000 orang dan ternyata 500 orang mengembalikan jatah konsumsinya karena sedang berpuasa"
      ],
      "metadata": {
        "id": "-WRWpEc4Kw30"
      }
    },
    {
      "cell_type": "code",
      "source": [
        "stok_konsumsi -= 1000 # 1000 kotak berkurang karena dibagikan\n",
        "stok_konsumsi += 500 # bertambah 500 karena pengembalian"
      ],
      "metadata": {
        "id": "ns0MXnPyK0J2"
      },
      "execution_count": null,
      "outputs": []
    },
    {
      "cell_type": "markdown",
      "source": [
        "sisa stok konsumsi yang ada dibagi rata ke 200 orang."
      ],
      "metadata": {
        "id": "Kjc_F31JLExA"
      }
    },
    {
      "cell_type": "code",
      "source": [
        "setiap_orang_mendapat = stok_konsumsi // 200\n",
        "stok_konsumsi -= 2400 #stok konsumsinya berkurang berapa kira - kira setelah dibagikan?"
      ],
      "metadata": {
        "id": "Kn-iuu4fLVLY"
      },
      "execution_count": null,
      "outputs": []
    },
    {
      "cell_type": "markdown",
      "source": [
        "Cetak sisa stok konsumsi yang ada"
      ],
      "metadata": {
        "id": "iBwcdoZTLrH4"
      }
    },
    {
      "cell_type": "code",
      "source": [
        "print(stok_konsumsi)"
      ],
      "metadata": {
        "id": "QZ29s2U2Lv72"
      },
      "execution_count": null,
      "outputs": []
    },
    {
      "cell_type": "markdown",
      "source": [
        "## [Problem Solving 2] : Melempar Koin\n",
        "\n",
        "\n",
        "> Pak Dengklek mempunyai 5 koin dua sisi (angka / gambar). Ada berapa banyak susunan yang mungkin terbentuk jika Pak Dengklek membalik sisi setiap koin?\n",
        "\n"
      ],
      "metadata": {
        "id": "RsO21kx_L8n3"
      }
    },
    {
      "cell_type": "code",
      "source": [
        "jumlah_koin = 5\n",
        "banyak_susunan = jumlah_koin ... #kira - kira jumlah koinnya diapain?\n",
        "print(\"Banyak Susunan yang mungkin terbentuk = \",banyak_susunan)"
      ],
      "metadata": {
        "id": "8OOYN88gNEUy"
      },
      "execution_count": null,
      "outputs": []
    },
    {
      "cell_type": "markdown",
      "source": [
        "## [Problem Solving 3] : Tukar Nilai\n",
        "\n",
        "\n",
        "> Diberikan bilangan bulat a dan b anda diminta untuk menukar nilai a menjadi b, dan b menjadi nilai a sebelumnya.\n",
        "\n",
        "Sebagai contoh jika `a = 9, b = 10`\n",
        "`a = 9, b = 10`\n",
        "\n",
        "tukar nilai a dan b sehingga\n",
        "\n",
        "`b = 9, a = 10`\n",
        "\n",
        "\n"
      ],
      "metadata": {
        "id": "xw8hGNxeT6Mm"
      }
    },
    {
      "cell_type": "code",
      "source": [
        "a = 9 # isi dengan suatu angka\n",
        "b = 10 # isi dengan suatu angka\n",
        "\n",
        "(a, b) = b, a #buat script cara menukar a dan b\n",
        "\n",
        "print(\"Setelah penukaran : a = \",a,\", b = \", b)"
      ],
      "metadata": {
        "id": "dJEvf6NYVB6o"
      },
      "execution_count": null,
      "outputs": []
    },
    {
      "cell_type": "markdown",
      "source": [
        "## [Problem Solving 4] : Digit Terakhir\n",
        "Diberikan suatu bilangan N cetaklah digit terakhir dari bilangan tersebut"
      ],
      "metadata": {
        "id": "lBgbd0sRVXJI"
      }
    },
    {
      "cell_type": "code",
      "source": [
        "N = 107686866 #isi dengan suatu angka\n",
        "print(N%10) # Cetak digit terakhir dari angka tersebut"
      ],
      "metadata": {
        "id": "W0n65ImSVh_d",
        "colab": {
          "base_uri": "https://localhost:8080/"
        },
        "outputId": "39dda95f-a18c-4d80-f2b1-dbab36048b14"
      },
      "execution_count": 10,
      "outputs": [
        {
          "output_type": "stream",
          "name": "stdout",
          "text": [
            "6\n"
          ]
        }
      ]
    },
    {
      "cell_type": "markdown",
      "source": [
        "# Mengerjakan Soal dengan Format Pemrograman Kompetitif\n",
        "\n",
        "\n",
        "> Dalam mata kuliah ini anda akan mengerjakan beberapa soal evaluasi yang formatnya menggunakan format dari soal Pemrograman Kompetitif seperti pada [TLX TOKI](https://tlx.toki.id)\n",
        "\n",
        "Pada umumnya struktur dari soal pemrograman Kompetitif dari beberapa bagian :  \n",
        "### Judul Soal\n",
        "\n",
        "---\n",
        "\n",
        "\n",
        "Judul soal yang akan dikerjakan\n",
        "### Batasan Waktu\n",
        "\n",
        "\n",
        "---\n",
        "\n",
        "\n",
        "Program anda harus mampu menyelesaikan semua kasus uji dengan waktu kompilasi paling buruk sesuai dengan batasan yang ditetapkan. Umumnya batasan waktu yang ditetapkan pada beberapa format adalah 1 detik.\n",
        "### Batasan Memori\n",
        "\n",
        "\n",
        "---\n",
        "\n",
        "\n",
        "Ketika program anda dijalankan maka penggunaan memori tidak boleh melebihi batasan yang ditetapkan\n",
        "### Deskripsi Soal\n",
        "---\n",
        "Penjelasan Studi kasus dari permasalahan soal yang diujikan\n",
        "### Format Masukan\n",
        "---\n",
        "Nantinya program yang anda buat harus memiliki input dengan *interface* atau tampilan antar muka batchnya harus sama persis dengan format yang ditetapkan. Penamaan variable tidak harus sama, namun tata letak dan posisi harus sama persis.\n",
        "### Format Keluaran\n",
        "---\n",
        "Sama seperti Format masukan, namun ini mengatur bagaimana anda menampilkan output.\n",
        "### Contoh Masukan\n",
        "---\n",
        "Berupa satu sampel kasus uji yang dapat anda isikan pada input terminal saat pengujian program\n",
        "\n",
        "### Contoh Keluaran\n",
        "---\n",
        "Setelah pengujian program dengan memasukkan contoh masukkan perhatikan apakah Outputnya sama persis dengan Contoh Keluaran yang diharapkan\n",
        "\n",
        "### Batasan\n",
        "---\n",
        "Kasus uji apa saja yang akan digunakan juri virtual untuk menilai program anda. Kasus uji juga dapat berisikan sekumpulan Sampel Masukan dan Keluaran, di mana program anda harus memenuhi pengujian sesuai batasan yang ditetapkan\n"
      ],
      "metadata": {
        "id": "Rs7u_9ngVwNP"
      }
    },
    {
      "cell_type": "markdown",
      "source": [
        "# Contoh Soal\n",
        "\n",
        "## Judul : Menghitung Bebek\n",
        "## Batasan Waktu : 1 detik (256 mb)\n",
        "## Deskripsi Soal\n",
        "---\n",
        "Pak Dengklek mempunyai bebek Jantan sebanyak N ekor dan bebek Betina sebanyak M ekor. Pak Dengklek ingin menghitung berapakah total bebek yang ia miliki?\n",
        "## Format Masukan\n",
        "---\n",
        "Satu baris berisikan bilangan bulat N dan M\n",
        "```\n",
        "N M\n",
        "```\n",
        "## Format Keluaran\n",
        "---\n",
        "Satu baris berupa total bebek yang Pak Dengklek miliki\n",
        "## Contoh Masukan\n",
        "---\n",
        "```\n",
        "1 5\n",
        "```\n",
        "## Contoh Keluaran\n",
        "---\n",
        "```\n",
        "6\n",
        "```\n",
        "\n",
        "\n",
        "## Batasan\n",
        "---\n",
        "![image.png](data:image/png;base64,iVBORw0KGgoAAAANSUhEUgAAAIwAAABYCAYAAAAnbx8HAAAAAXNSR0IArs4c6QAAAARnQU1BAACxjwv8YQUAAAAJcEhZcwAADsMAAA7DAcdvqGQAAA69SURBVHhe7Z0PTFRHHse/17Clu4TV21rXLQUpxciaxYiN2N4a3UaolBMJHppa7vQM50mNxND6L/6JEJUoPUsMxrPxSKvRYhVLFOPZYK+rKfXEKI2QAhEtghzin60sB1tcrncz782yu8AuO8sBpcwneWHevN2Zx77v+81v5r3fzK9mmJL+C4HAR55hfwUCnxCCEXAhBCPgQghGwIUQjIALIRgBF0IwAi6EYARc9Bm4i121E+kGJdtzx25tRd21izhythJWlsdHDDJz02AIAjqrjyPrcCXLF4wWuCyMQq2FYX4atq+KhYrlCcYWXgTTjLJ167GabVm5J1He2i0dURvmIVknJQVjDC9NEhVMPorlbBlTBg6kREKBbtw5vxl7v2D5ykgkvp2CN/RaqAPlLHsHab6+KkFhWT06yb6nps7ZNCkRFb8Ub8/VQ6cOkA/abWipu4QTxy6i1iZnSSijsezPSYgN10DFJN9puYuKc5+g6Hq7nCHhY5kpWfjIFEISzTAfqMGkd4yI0sjnarc2o/zUIRTddD2BsYufTq8dnU9YkvglGZszkDyDiaWrG/afSPMVRJqvhRnYuGSy9Cl7l41ssoWS+Il8jux3srzYlRuRtTBavrDSMZKpUEJnSEBWVgoipE8RlLHI3LICpghZLLQMWp9KMxmm5VuxaYFTlD6X2YMWxtVxPWKhKNQhpNw/IbGv1sckPgtGPS0OWfOpdSFY63H1qpQNLDIhZjxN2FB7KgerN27G2qwcFN+S70jdq2/BRP5WHs3F2o2fobpDykbnd5+R/c3YerSK7CXhzRnBcn5dCTZkkTI2rseGs7J1gnYmkudIh6FKMMKgpikLyg9sl8pYu+UkqiUvPAARry1GFE1ylOmECOtBOQp20GZ4O/K/biW3BkERgui50gfGPF4EE4L4/X/BR2z7YHUCosiFsltqUFx4BBXsUzibz/wc+gM7moN2lDVb5KRSiQlyygul2OXwlQ6W9/TArF8247GUUiLoBSmBsGB2q9vb0XaPNRO2ChSfuwjz5XKYr99Cm5Tpe5lOWlFeUIJqyXrSG6AW96X8AKh/PVFKjXW8WhjJ3Ds26VYjN5tGjzfjjZBucgfjY7BszQZ8kOcUmOwT8BCM2CUZyN65x1nG/nkIZUcd1N64i0c0oZiMxNyd2P1+OpYviEVA3QUUnS5B0bkKtEifpPhWphPyf3pwVVTBvP/PLxMvgiEOIDX3jm09sSCXmyUTrTYk4V2Hr6CMw6YtaTBNJT6Moh0tjc1oopuFx0lUInHdVqTPiZT8DWsrK6PRIjcfrhAnee/RcjRRk/EMsV5hehgTl2JbDrGC76cgpsfX4ChT4DM++zCSiT59A7ep40hMdOiUWCk3akksIqiza2+FeX8OsvflYxfdbrImyRemLoYxgvZiutFyuQAbclkZ+6pY8+GO9XoJdm0n/si+kzhzuRJ3mDjVYUakr0mC1OPnLFPgGxyC6YVCcn9hmKSR/uKpBbcb5CRF9Qy9WD4ybSLzc+x43HhXSkkoA6gb6kIkUjOysO39LGSl6GFtrMD508Ti5GxHwbey/6QIi4SRJnwuU8CD74IZr0fiWhOi2DjLo3s3pb+NP7Cmh3Sjo6fL7YF6WhIyZ2mltDvER/iPnFJppzi7tfesrJlQYpI+Wh5FJvWlZsyUrUUPpIej1CI0LARRs+OQHM6yia+iC2Iy6LCikf71uUwBD1zPknp4UoXCHaynZEjD7lUxXnpCFlQczEVhnbxnWrMTy6Y6y5cH7n5E+o50xDJj1R+Prh8iXfB6IDwJ29YSx1U2cJJDDmLNZIPXjSbzX7GrhFoUve9lugzcuQ9WkrqYkyyefclwNUn2Dguavr2A/D0u3WryQ+4upE6oc1Cus7UGZ05Vyb0ZaKCb5hSI+eNSVLQ6HeJuesFRg8K8IzA3tkuDcBK2VlSfK0Elc4UmTNLLVqKBdJd3HYf5DnFe6QBhoCwW+mC08tzf8KEkFgpHmQKfEWEmAi78d3oFYxIhGAEXQjACLoRgBFwIwQi4EIIRcCEEI+BCCEbAhRCMgAshGAEXQjACLoRgBFwIwQi4EIIRcCEEI+BCCEbAhRCMgAshGAEXQjACLoRgBFz8TF4Cn4z4VWlINmhgH1Q4Bw0LiURt73lt+mBE1p4URFnLkZ1b4hKLzYtv9UXMT0f6Aj0mdNegcEuhM+KCQY8vj9dDx4IraNTF+U8LUeYSGCjNibNmMYwvBUNBb3N7O5qufI4PT1cNa+jviFsY1ZQEbMrNROpLdrRJYbj+QC/cQIH2TlSJM/EKvThaPeL9imrzsT5lJJLX7cSmhS/B7hKG48asFXh3kR7jHpbj6MFDyD9xCfeVeqSmp8PYE50zEalr0mDS2VF34QjyDx5B8c1OTJqbhvdS5Pl3hosRFsxEJC4yQv19KfbuuIj7Hn5Tz/S6cM2XsHpA6zIRyTPIj9xQieoODaIT9CzfF/jq08UnwTS+AcX7c3C+lU1/4YYSqW9EQ00DA/eVoLyuHrVXyG9RWIFHaiLmhWyKkVlJMIYBd/6Rj4IvqlBbV4Wyowdw5pYdobPl+XeGC78Es2zJYuzP2y1tNO0/D1C8bzu2Hr6EOyzHN1wvnA3Vx+R5YFbnlbLjXjC8hZnabtyuPI6vbrVDPXWeDz+4f/W1nM1HVk6vpsUNI14hmnh0uxzVLEeiwYy6h0RwYbOl3Si9Fip7M6rOu86IYUNZdTPsSi2iZrCsYYBbMFQgpjm/wXOBgdJG04MTDS/04pELJ93d9MJtR8E1dsgHYl+PhNrWgEozUH2tAVZlOGZ7nY9scPV5RZoihVz69nqW4eABWp4Qc/v8RNA5MiKeVwNPO1kkqQt1FrQhGBNeZvvDALdgXpv1Kks56S9v6KAzS11CU8g8csfTu34nMmexQwNihJE4L9a6SyB6IYr5O6oeBiDCEOclZHYw9Q2A+jlSrw1t/2L7LrR1OZswlSIAsFrcrRClxUa+PbyMuNPrH47pyMiFJH6A4ff0QpJtYxI73j+ys2tB7Tc1LOcByupagZCoAaaR9a++XyLcgvnntess5aS/vOHB9UISJCuQhVTpWG9kZ1cBDWLXsAtOtuw5dFoSLWb65Pzy1OcD99pJl1iJcS+yfRfGBbLpKQhtnaR5UmtgYPs9kH64t8Z0KOAWTNGpz2H++hv82NUlbTRN80aWXheyP5iz23SZdF1p99VlMzd2++j8OvChPl9oscBKWh5lcCTLcDARuvHOZqjJagWeVfWdUmWqBuM8NGlDhV9NEhXIuo1bpW3kxeIKvZD9d3MlZ1fqaZCuK+2+umxFVxvQSZ3fBezDPuO5Pt8oR21zNya8YnS3HuEmTH2B6In0nuigXO2NZljp1K9uzrkS8YYQKGzkf3JMgTsM/Iym+5AXroj4fqCRXtZrYXt96WcGczayG9ZYIk3B2hc9MnLSYXhyERvzL/QaOfWnvr5IEzW93NB3pJdNyKRqLEfxuSo81uiRnDgPEYp6FOccQpnk1SqRmLUDySFWVJeVSt300NkJSH5Vi7YrBdh6wmVKtiFmFAqGH1ViJvIWaFB9OAeH+nQ1ZAwrdyBzRifMez5Akf/PCjziUTAE9ZyleG9BLHRsLtv+Hw1EInnlUpimsOnyR+jRgJhQSMDFKO1WC0YKIRgBF0IwAi6EYARcCMEIuBCCEXAhBCPgQghGwIUQjIALIRgBF0IwAi7GUFyS/HDTEMR2HXTZ8Ki5CmVnTsLs8WVtT9AyFwMl3t/zVU1PwXtvGxEa5OHJdvg8ZL4TB4OWvb5AV10pO4mCL12fQisR87sMvPN6iPQeMF1W2XrvKj49WILKYXxPc8QtzHDHJXXWXXC+PPVxKcqqLVCFx2JZ+grphWvfoEKh9fUjQDeCYVq5BXkrZyPg364LsLsSg4z0JBjUFphP0PM6ibIWFQyL/ojM2c73X3SLMpA+V4un5PwPkXM/dKYKHToj0jOT+ll/e+gYYcGMQFyS/bHz5alvL6H4aD7yrloAdThmDhiu0UsoHTUo9BZFMGsxfjvFhvKPc5Bd41gI2R1Vigkx6nZUHstH0RV6XhUo3v8Jyh8GwzA/ga0eF4PU10Kk8JPdhy+ikpx7pfk48s7Vwx4S28/620OHX4IZ1XFJ/dAmrbFs97gEcW+hNJlZff282+LGtSPYsIUI4abnNsMUrgUs9TC7vadzF2X1RMTacHn9yqnTMCmoG03fub/c1WmuQWOXEi9OjWY5Qw+3YEZ7XJI7Suimx2H1DC3sjVU4z5YZdIf5PnSFN6m+9dhVwg4NGnmJZNisqGU5DlruW4iENdDRkJZw+u6uHZ19FuqtwWNiuNTP9yx+OeRwC2Z0xyWRJsCQxr4nfzd75TwE1RzH7n2lHoLyK1Gw5Tiq6RqS7HvbUtihQRMMVSCxFNZWtu9CB7F4LAlVABSw4lGftwUfoPMpSw4TI+70+ofrW/t8cUJuTi8Nav+mAQHT05Cds8Il+L03VDS0PiKcDiDUxOrLTedwlH8ZcAtm9MYlMVydXhrUfqoQ2ceqYB0fjcQlvcM9euMuHARRqzOYSMhmtBGnRKXuZ8nmIAWxKowfbMTaqDGhT2DSRKieZclhglswozYuyRuka91G/qgCg+X9AeklHL95gEcdpGuoVCOK5TjQTdI4m6GWdnJ+Cqj6LKmsBw277rdJGyL8apJGY1ySVwzUqSQ/fJensRJPUOEMLjjfXNcMuyYSJjfrMRnxkUQdraT3RDtYdTfQ9CQAodMS3GLAVSY9wgJtaKz22lf7vzJG4pIorPx7F/DRl44hXSVCpxthmhWJCc+Q7+0j3+vj+bJekscBOtqt90E00mLq6Ofc2ILsymaYz5Si0qKBIeEtxEcEoLYkF/mSYog4FmQiLzEEbdUXUXyZnL9uNpIXxkD3pAJ7d53kHJbwnzERlyTj4cLTIfbWGnx1+iTO3xrCMXaPgiGMN2J5RhyMOtYkeng0ELVwBf4wh4ibOucj9GhAxCUJuBil3WrBSCEEI+BCCEbAhRCMgAshGAEXQjACLoRgBBwA/wNM0pOuKR/kgwAAAABJRU5ErkJggg==)"
      ],
      "metadata": {
        "id": "5AlYJeT0X3d3"
      }
    },
    {
      "cell_type": "code",
      "source": [
        "N,M = map(int, input().split()) # Diberikan input berupa N,M sebagai multiple data - single line input\n",
        "total = N + M # Penyelesaian soal\n",
        "print(total) #Keluaran / Output mengikuti formatnya yaitu berupa hasil akhirnya saja\n",
        "# SALAH!!! jika anda menulis N = int(input()), M = int(input()) karena ini tidak sesuai format -> akan membuat double lines input\n",
        "# SALAH!!! jika anda menulis print(\"Total : \",total) karena tidak mengikuti format\n"
      ],
      "metadata": {
        "id": "DbvGe73XX1ns"
      },
      "execution_count": null,
      "outputs": []
    },
    {
      "cell_type": "markdown",
      "source": [
        "Terlihat bahwa diberi masukan 1 5 keluaran yang diharapkan sesuai dengan contoh Output yaitu 6.\n",
        "\n",
        "\n",
        "Namun Program anda harus diuji juga dibalik layar oleh Juri apakah untuk\n",
        "\n",
        "\n",
        "```\n",
        "-- Kasus Uji 1 --\n",
        "# Input\n",
        "1 1\n",
        "# Output\n",
        "2\n",
        "```\n",
        "```\n",
        "-- Kasus Uji 2 --\n",
        "# Input\n",
        "1 2\n",
        "# Output\n",
        "3\n",
        "```-- Kasus Uji 3 --\n",
        "# Input\n",
        "1 3\n",
        "# Output\n",
        "4\n",
        "```\n",
        "...\n",
        "```\n",
        "-- Kasus Uji 100 * 100 = 10.000 --\n",
        "# Input\n",
        "100 100\n",
        "# Output\n",
        "10000\n",
        "```\n",
        "\n",
        "Jika berdasarkan penilaian juri program anda bisa memenuhi semua kasus uji sesuai batasan maka anda akan mendapatkan status **AC**, jika ada satu kasus uji saja yang salah maka mendapatkan status **WA**, selama pengujian semua kasus ada kasus di mana proses eksekusi program anda melebih batas waktu yang anda akan mendapatkan status **TLE**\n",
        "\n",
        "__Kamus__\n",
        "* AC : Accepted\n",
        "* WA : Wrong Answer\n",
        "* TLE : Time Limit Exceed\n",
        "* CE : Code Error\n",
        "* MLE : Memory Limit Exceed\n",
        "\n",
        "\n",
        "\n"
      ],
      "metadata": {
        "id": "7pnS139aZg9L"
      }
    },
    {
      "cell_type": "markdown",
      "source": [
        "# Percabangan if-else"
      ],
      "metadata": {
        "id": "tCN37ewRiGCA"
      }
    },
    {
      "cell_type": "markdown",
      "source": [
        "## [Problem Solving 5] : Nap Genap - Genap\n",
        "Diberikan program di bawah ini, awalnya kita ingin menghitung berapa banyak bilangan genap dari 1 -- 1000 (inklusif), namun ada kesalahan dalam logika programnya. Perbaikilah kesalahan itu dan jadilah pribadi yang lebih baik!"
      ],
      "metadata": {
        "id": "5cBmPOsIiKym"
      }
    },
    {
      "cell_type": "code",
      "source": [
        "count = 0\n",
        "\n",
        "for i in range(1,1001):\n",
        "  if(i % 2 == 0):\n",
        "    count+=1\n",
        "\n",
        "print(\"Banyak Bilangan genap di antara 1 -- 1000 (inklusif) adalah = \", count)"
      ],
      "metadata": {
        "id": "8FwAN377ihOS"
      },
      "execution_count": null,
      "outputs": []
    },
    {
      "cell_type": "markdown",
      "source": [],
      "metadata": {
        "id": "GSdPAWZciySo"
      }
    },
    {
      "cell_type": "markdown",
      "source": [
        "## [Problem Solving 6] : Sakit Cinta\n",
        "Hidup ini penuh momen unik ketika pasangan:\n",
        "\n",
        "*   Saling mengenal tapi tidak saling Cinta ini dinamakan sakit\n",
        "*   Saling mengenal dan saling Cinta ini dinamakan sayang\n",
        "* Tidak saling mengenal dan tidak saling cinta ini dinamakan asing\n",
        "\n",
        "Anda diberikan boolean `dekat` yang menunjukkan apakah seorang pasangan saling mengenal dan sudah sangat dekat , `cinta` yang menunjukkan apakah seorang pasangan saling cinta.\n",
        "\n",
        "Tentukan perasaan pasangan ini apakah sakit, sayang, atau asing.\n",
        "\n"
      ],
      "metadata": {
        "id": "c76Alswwi1d8"
      }
    },
    {
      "cell_type": "code",
      "source": [
        "dekat = int(input(\"Kamu dekat sama doi?[1 atau 0] :\"))\n",
        "cinta = int(input(\"Doi Cinta kamu?[1 atau 0] :\"))\n",
        "perasaan = \"sa\"\n",
        "if(not dekat and not cinta):\n",
        "  perasaan = \"asing\"\n",
        "elif(dekat and cinta): # ur dream yak, saling mengenal dan saling cinta\n",
        "  perasaan += \"yang\"\n",
        "elif(dekat and not cinta): # mengenal tapi tidak saling Cinta (kamu sama dia inimah yak wkwkwkwkw)\n",
        "  perasaan += \"atit\"\n",
        "\n",
        "print(\"Perasaan uhhh :\", perasaan)"
      ],
      "metadata": {
        "id": "5S0xVssDjkRw",
        "colab": {
          "base_uri": "https://localhost:8080/"
        },
        "outputId": "dd907cc2-2c9c-4818-dc2d-6cd85e4d24ac"
      },
      "execution_count": null,
      "outputs": [
        {
          "output_type": "stream",
          "name": "stdout",
          "text": [
            "Kamu dekat sama doi?[1 atau 0] :1\n",
            "Doi Cinta kamu?[1 atau 0] :1\n",
            "Perasaan uhhh : sayang\n"
          ]
        }
      ]
    },
    {
      "cell_type": "markdown",
      "source": [
        "## [Problem Solving 7] : Kalimat orang yang HTSan\n",
        "Diberikan sebuah string `kalimat` yang berisikan deretan string kata - kata (nya dong kak gem). `kalimat` dikatakan kalimat HTS jika jumlah karakternya > 10 (friendly biasanya sih) dan mengandung kata \"teman\". Periksa apakah `kalimat` yang diberikan merupakan kalimat HTSan"
      ],
      "metadata": {
        "id": "M274pneWkZR7"
      }
    },
    {
      "cell_type": "code",
      "source": [
        "#lengkapi kode berikut\n",
        "kalimat = input()\n",
        "if(len(kalimat) > 10):\n",
        "  if \"teman\" in kalimat:\n",
        "    print(\"Ya HTSan Deh\")\n",
        "  else:\n",
        "    print(\"Selamat kamu spesial baginya!\")"
      ],
      "metadata": {
        "id": "iFPT0RhAmZBL"
      },
      "execution_count": null,
      "outputs": []
    },
    {
      "cell_type": "markdown",
      "source": [
        "## [Problem Solving 8] : MengThelima\n",
        "Diberikan bilangan bulat N, periksa apakah N bilangan kelipatan 5 atau bukan"
      ],
      "metadata": {
        "id": "cJXUWWTCp1oG"
      }
    },
    {
      "cell_type": "code",
      "source": [
        "N = int(input())\n",
        "if(N%10 == 0 or N%10 == 5):\n",
        "  print(\"Kelipatan 5\")\n",
        "else:\n",
        "  print(\"Bukan kelipatan 5\")"
      ],
      "metadata": {
        "id": "0gwppewLp9bg"
      },
      "execution_count": null,
      "outputs": []
    },
    {
      "cell_type": "markdown",
      "source": [
        "# Boolean & Propotitional Logic"
      ],
      "metadata": {
        "id": "wQVtzsYYA9DW"
      }
    },
    {
      "cell_type": "markdown",
      "source": [
        "## [Problem Solving 1]\n",
        "\n",
        "Tentukan nilai Boolean P,Q, dan R agar program menampilkan \"Selamat pagi semuanya\""
      ],
      "metadata": {
        "id": "jXktMsZABDDr"
      }
    },
    {
      "cell_type": "code",
      "source": [
        "P = True # True atau False ?\n",
        "Q = True # True atau False ?\n",
        "R = False # True atau False ?\n",
        "prop = (P and Q) or (Q and (R or P )) and (not P)\n",
        "if(prop):\n",
        "  print(\"Selamat pagi semuanya\")\n",
        "else:\n",
        "  print(\"Selamat malam semuanya\")"
      ],
      "metadata": {
        "id": "jBdnPsDTBPbS"
      },
      "execution_count": null,
      "outputs": []
    },
    {
      "cell_type": "markdown",
      "source": [
        "## [Problem Solving 2]\n",
        "\n",
        "Tentukan nilai Boolean P,Q, dan R agar program menampilkan \"go!\""
      ],
      "metadata": {
        "id": "kbS7gGfgCZAC"
      }
    },
    {
      "cell_type": "code",
      "source": [
        "P = False # True atau False\n",
        "Q = True # True atau False\n",
        "R = False # True atau False\n",
        "if(P or Q):\n",
        "  if(R and not P):\n",
        "    print(\"OK\")\n",
        "  elif(R or P):\n",
        "    print(\"RUN\")\n",
        "  else:\n",
        "    print(\"GO\")\n",
        "else:\n",
        "  print(\"WAIT\")"
      ],
      "metadata": {
        "id": "XUgBNr7DCfx3"
      },
      "execution_count": null,
      "outputs": []
    },
    {
      "cell_type": "markdown",
      "source": [
        "# [Problem Solving 3]\n",
        "\n",
        "Tentukan nilai Boolean P,Q,R, dan S agar program di bawah ini menampilkan \"HALO\""
      ],
      "metadata": {
        "id": "AN8-rWSZC8In"
      }
    },
    {
      "cell_type": "code",
      "source": [
        "P = True # True atau False\n",
        "Q = False # True atau False\n",
        "R = True # True atau False\n",
        "S = False # True atau False\n",
        "T = (P or Q) and not R\n",
        "U = (P if Q else True) and S\n",
        "if((T and not U) or (U and not T)):\n",
        "  print(\"HAI\")\n",
        "else:\n",
        "  print(\"HALO\")"
      ],
      "metadata": {
        "id": "T3cSTrrdDIGr"
      },
      "execution_count": null,
      "outputs": []
    },
    {
      "cell_type": "markdown",
      "source": [
        "# [Problem Solving 4]\n",
        "Tentukan keluaran atau proposisi yang sesuai dengan pengecekan kondisional proposisi di bawah ini!"
      ],
      "metadata": {
        "id": "fFa7qwq-E0aE"
      }
    },
    {
      "cell_type": "code",
      "source": [
        "Akusenang = bool(input())\n",
        "Akusemangat = bool(input())\n",
        "\n",
        "if(Akusenang):\n",
        "  if(Akusemangat):\n",
        "    print(\"Aku senang dan Aku semangat\")\n",
        "  else:\n",
        "    print(\"Aku senang dan Aku tidak semangat\")\n",
        "elif(not Akusenang and not Akusemangat):\n",
        "  print(\"Aku tidak senang dan Aku tidak semangat\")\n",
        "elif(Akusemangat if Akusenang else True):\n",
        "  print(\"Jika aku senang, maka aku semangat\")\n",
        "else:\n",
        "  print(\"Jika aku tidak senang, maka aku tidak semangat\")"
      ],
      "metadata": {
        "id": "M9CTUVvnE8TH"
      },
      "execution_count": null,
      "outputs": []
    },
    {
      "cell_type": "markdown",
      "source": [
        "# [Problem Solving 5]\n",
        "Periksa apakah untuk nilai P dan Q dari fungsi OMG dan fungsi HALO selalu mengembalikan nilai Benar?"
      ],
      "metadata": {
        "id": "HJBvqli1GeKt"
      }
    },
    {
      "cell_type": "code",
      "source": [
        "def OMG(P,Q):\n",
        "  return (Q if P else True) and (P if Q else True)\n",
        "def HALO(P,Q):\n",
        "  return (not P or Q) and (not Q or P)"
      ],
      "metadata": {
        "id": "NDgcZ67-GtdC"
      },
      "execution_count": null,
      "outputs": []
    },
    {
      "cell_type": "markdown",
      "source": [
        "# [Problem Solving 6]\n",
        "Tentukan sembarang nilai bilangan A,B,C, dan D sehingga program menghasilkan keluaran berupa angka 1"
      ],
      "metadata": {
        "id": "fS60bQyAHZZ8"
      }
    },
    {
      "cell_type": "code",
      "source": [],
      "metadata": {
        "id": "68W1E-nfH-bL"
      },
      "execution_count": null,
      "outputs": []
    },
    {
      "cell_type": "code",
      "source": [
        "A = int(2) #isi dengan bilangan bulat\n",
        "B = int(1) #isi dengan bilangan bulat\n",
        "C = int(4)\n",
        "D = int(3)\n",
        "if(A > B):\n",
        "  if(A == D):\n",
        "    print(2)\n",
        "  if(A < C):\n",
        "    print(1)\n",
        "  else:\n",
        "    print(3)\n",
        "elif(A < D):\n",
        "  print(4)\n",
        "else:\n",
        "  print(5)"
      ],
      "metadata": {
        "colab": {
          "base_uri": "https://localhost:8080/"
        },
        "outputId": "5a9553af-ae81-4135-bc0c-f62cc061bbf4",
        "id": "OP2et_Xm2TAt"
      },
      "execution_count": null,
      "outputs": [
        {
          "output_type": "stream",
          "name": "stdout",
          "text": [
            "1\n"
          ]
        }
      ]
    },
    {
      "cell_type": "markdown",
      "source": [
        "# [Problem Solving 7]\n",
        "Jika diberikan nilai A = 1, B = 5, C = 3, D = 2 apa yang dicetak oleh program?"
      ],
      "metadata": {
        "id": "gb1r60B9Ihi7"
      }
    },
    {
      "cell_type": "code",
      "source": [
        "A = int(1) #isi dengan bilangan bulat\n",
        "B = int(5) #isi dengan bilangan bulat\n",
        "C = int(3)\n",
        "D = int(2)\n",
        "if(A > B):\n",
        "  if(A == D):\n",
        "    print(2)\n",
        "  if(A < C):\n",
        "    print(1)\n",
        "  else:\n",
        "    print(3)\n",
        "elif(A < D):\n",
        "  print(4)\n",
        "else:\n",
        "  print(5)"
      ],
      "metadata": {
        "id": "yd92doQCI6Ol"
      },
      "execution_count": null,
      "outputs": []
    },
    {
      "cell_type": "markdown",
      "source": [
        "# [Problem Solving 8] : Tentukanlah keluaran program di bawah ini!"
      ],
      "metadata": {
        "id": "PxorbRHBI8sD"
      }
    },
    {
      "cell_type": "code",
      "source": [
        "N = 1000\n",
        "count = 0\n",
        "for i in range(1,N + 1):\n",
        "  if(i%2 == 0):\n",
        "    count+=1\n",
        "  elif(i%3 == 0):\n",
        "    count+=1\n",
        "print(count)"
      ],
      "metadata": {
        "id": "ShpcsrMzJGV8"
      },
      "execution_count": null,
      "outputs": []
    },
    {
      "cell_type": "markdown",
      "source": [
        "# [Problem Solving 9] : Buatlah tabel kebenaran dari Disjungsi Eksklusif, Implikasi, dan BiiImplikasi!"
      ],
      "metadata": {
        "id": "eydz1iClJZtE"
      }
    },
    {
      "cell_type": "code",
      "source": [
        "\n",
        "def xor(P,Q):\n",
        "  return P ^ Q # Diisi sendiri ya\n",
        "def Imply(P,Q):\n",
        "  return not(P) or Q # Diisi sendiri ya\n",
        "def Biimply(P,Q):\n",
        "  return (P and Q) or not(P or Q) # Diisi sendiri ya\n",
        "def PrintTable(judul):\n",
        "  if(judul == \"Konjungsi\"):\n",
        "    print(\"P |\",\"Q |\",\"P and Q \")\n",
        "    for P in [True,False]:\n",
        "      for Q in [True,False]:\n",
        "        print(f\"{P} |\",f\"{Q} |\",(P and Q))\n",
        "  if(judul == \"Disjungsi\"):\n",
        "    print(\"P |\",\"Q |\",\"P or Q \")\n",
        "    for P in [True,False]:\n",
        "      for Q in [True,False]:\n",
        "        print(f\"{P} |\",f\"{Q} |\",(P or Q))\n",
        "  if(judul == \"Disjungsi_Eksklusif\"):\n",
        "    print(\"P |\",\"Q |\",\"P xor Q \")\n",
        "    for P in [True,False]:\n",
        "      for Q in [True,False]:\n",
        "        print(f\"{P} |\",f\"{Q} |\",xor(P,Q))\n",
        "  if(judul == \"Implikasi\"):\n",
        "    print(\"P |\",\"Q |\",\"P -> Q \")\n",
        "    for P in [True,False]:\n",
        "      for Q in [True,False]:\n",
        "        print(f\"{P} |\",f\"{Q} |\",Imply(P,Q))\n",
        "  if(judul == \"Biimplikasi\"):\n",
        "    print(\"P |\",\"Q |\",\"P <--> Q \")\n",
        "    for P in [True,False]:\n",
        "      for Q in [True,False]:\n",
        "        print(f\"{P} |\",f\"{Q} |\",Biimply(P,Q))\n",
        "# Contoh untuk menampilkan tabel Konjungsi\n",
        "PrintTable(\"Konjungsi\")\n",
        "PrintTable(\"Disjungsi\")\n",
        "PrintTable(\"Disjungsi_Eksklusif\")\n",
        "PrintTable(\"Implikasi\")\n",
        "PrintTable(\"Biimplikasi\")"
      ],
      "metadata": {
        "id": "Ha5dlo0eJp2o"
      },
      "execution_count": null,
      "outputs": []
    },
    {
      "cell_type": "markdown",
      "source": [
        "# [Problem Solving 10]\n",
        "\n",
        "Anda dapat menyatakan suatu kalimat bahasa Indonesia menjadi ekspresi Boolean\n",
        "Contoh untuk kalimat\n",
        "*\"Belikan aku buah P atau buah Q lalu jangan lupa juga untuk membelikan aku buah R dan S*\n",
        "\n",
        "dapat dinyatakan dalam ekspresi Boolean menjadi\n",
        "\n",
        "\n",
        "```\n",
        "(P or Q) and (R and S)\n",
        "```\n",
        "\n",
        "nyatakanlah Kalimat kalimat di bawah ini dalam bentuk ekspresi boolean!\n",
        "\n",
        "\n"
      ],
      "metadata": {
        "id": "yPZJoqh3MS4-"
      }
    },
    {
      "cell_type": "markdown",
      "source": [
        "Pak Dengklek sangat mencintai Bu Ganesh sehinggga ia akan menuruti apa saja perkataan\n",
        "istri tercintanya itu. Suatu hari Bu Ganesh memberi Pak Dengklek tugas yaitu untuk membeli\n",
        "buah – buahan atau sayur – sayuran di pasar.\n",
        "Bu Ganesh : “Bubub Dengklek … Beliin aku buah P atau buah Q, kalau gaada dua – duanya\n",
        "beli aja salah satu dari buah R atau S. Lalu beli juga buah T dan U.”\n",
        "Pak Dengklek : “My Sweetie Pookie Bear kalau aku tidak membeli buah – buahan sama\n",
        "sekali bagaimana?”\n",
        "Bu Ganesh : “Yasudah beli saja sayuran V dan salah satu di antara W atau X\n",
        "\n",
        "Jika kondisi ketika Pak Dengklek membeli suatu buah dinyatakan sebagai TRUE dan tidak\n",
        "membeli adalah FALSE maka ekspresi boolean yang menggambarkan pembelian buah Pak\n",
        "Dengklek di atas adalah …"
      ],
      "metadata": {
        "id": "pg4RQykiNI-z"
      }
    },
    {
      "cell_type": "code",
      "source": [
        "((P or Q)) or not (((P or Q)or(R or S))and(T and U)) or (V and (W or X))"
      ],
      "metadata": {
        "id": "tm95lcBPNXwu"
      },
      "execution_count": null,
      "outputs": []
    },
    {
      "cell_type": "markdown",
      "source": [
        "# PR WLEEE 😜😜😜😜"
      ],
      "metadata": {
        "id": "Q3dwnX3fqTeh"
      }
    },
    {
      "cell_type": "markdown",
      "source": [],
      "metadata": {
        "id": "CvfnWUiZCSvU"
      }
    }
  ]
}